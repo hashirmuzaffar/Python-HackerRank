{
 "cells": [
  {
   "cell_type": "markdown",
   "metadata": {},
   "source": [
    "You are given an array(list) strarr of strings and an integer k. Your task is to return the first longest string consisting of k consecutive strings taken in the array.\n",
    "strarr = [\"tree\", \"foling\", \"trashy\", \"blue\", \"abcdef\", \"uvwxyz\"], k = 2\n",
    "\n",
    "Concatenate the consecutive strings of strarr by 2, we get:\n",
    "\n",
    "treefoling   (length 10)  concatenation of strarr[0] and strarr[1]\n",
    "\n",
    "folingtrashy (\"12)  concatenation of strarr[1] and strarr[2]\n",
    "\n",
    "trashyblue   (\"10)  concatenation of strarr[2] and strarr[3]\n",
    "\n",
    "blueabcdef   (\"10)  concatenation of strarr[3] and strarr[4]\n",
    "\n",
    "abcdefuvwxyz (\"12)  concatenation of strarr[4] and strarr[5]\n",
    "\n",
    "Two strings are the longest: \"folingtrashy\" and \"abcdefuvwxyz\".\n",
    "\n",
    "The first that came is \"folingtrashy\" so \n",
    "\n",
    "longest_consec(strarr, 2) should return \"folingtrashy\"."
   ]
  },
  {
   "cell_type": "code",
   "execution_count": 58,
   "metadata": {},
   "outputs": [],
   "source": [
    "def longest_consec(strarr,k):\n",
    "    lengths = [len(word) for word in strarr]\n",
    "    i=0\n",
    "    sum_lengths= []\n",
    "    while i < len(lengths)-k+1:\n",
    "        sum = 0\n",
    "        j=i\n",
    "        for j in range(i, i + k):\n",
    "                sum += lengths[j]\n",
    "        i+=1\n",
    "        sum_lengths.append(sum)\n",
    "    for x in range(0,len(sum_lengths)-1):\n",
    "        Max = sum_lengths[x]\n",
    "        results=''\n",
    "        if Max==max(sum_lengths):\n",
    "            for y in range(x,x+k):\n",
    "                results+=strarr[y]\n",
    "            break\n",
    "    print(results)"
   ]
  },
  {
   "cell_type": "code",
   "execution_count": 60,
   "metadata": {},
   "outputs": [
    {
     "name": "stdout",
     "output_type": "stream",
     "text": [
      "treefolingtrashy\n"
     ]
    }
   ],
   "source": [
    "strarr = [\"tree\", \"foling\", \"trashy\", \"blue\", \"abcdef\", \"uvwxyz\"]\n",
    "longest_consec(strarr,3)\n"
   ]
  }
 ],
 "metadata": {
  "kernelspec": {
   "display_name": "Python 3",
   "language": "python",
   "name": "python3"
  },
  "language_info": {
   "codemirror_mode": {
    "name": "ipython",
    "version": 3
   },
   "file_extension": ".py",
   "mimetype": "text/x-python",
   "name": "python",
   "nbconvert_exporter": "python",
   "pygments_lexer": "ipython3",
   "version": "3.10.2"
  }
 },
 "nbformat": 4,
 "nbformat_minor": 2
}
