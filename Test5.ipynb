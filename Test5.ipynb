{
 "cells": [
  {
   "cell_type": "markdown",
   "metadata": {},
   "source": [
    "You are given a N x M grid of strings. It consists of alphanumeric spaces and characters, spaces, and symbols (!,@,#,$,%,&). To decode a string, you need to read each column and select only alphanumeric characters and concatenate them. If there are symbols between two alphanumeric characters of the decoded script, then replace them with empty string ‘’. You need to do this without using the if condition.\n",
    "Input:\n",
    "7 3\n",
    "Tsi\n",
    "h%x\n",
    "i #\n",
    "sM \n",
    "$a \n",
    "#t%\n",
    "ir!\n",
    "\n",
    "Output\n",
    "This is Matrix#  %!"
   ]
  },
  {
   "cell_type": "code",
   "execution_count": 1,
   "metadata": {},
   "outputs": [],
   "source": [
    "import re"
   ]
  },
  {
   "cell_type": "code",
   "execution_count": 13,
   "metadata": {},
   "outputs": [],
   "source": [
    "matrix = [\n",
    "['T','s','i'],\n",
    "['h','%','x'],\n",
    "['i',' ','#'],\n",
    "['s','M',' '],\n",
    "['$','a',' '],\n",
    "['#','t','%'],\n",
    "['i','r','!']\n",
    "]"
   ]
  },
  {
   "cell_type": "code",
   "execution_count": 14,
   "metadata": {},
   "outputs": [],
   "source": [
    "N = len(matrix)\n",
    "M = len(matrix[0])\n",
    "String = ''\n",
    "for i in range(M):\n",
    "    for j in range(N):\n",
    "        char = matrix[j][i]\n",
    "        String += str(char)"
   ]
  },
  {
   "cell_type": "code",
   "execution_count": 15,
   "metadata": {},
   "outputs": [
    {
     "name": "stdout",
     "output_type": "stream",
     "text": [
      "This$#is% Matrix#  %!\n"
     ]
    }
   ],
   "source": [
    "print(String)"
   ]
  },
  {
   "cell_type": "code",
   "execution_count": 41,
   "metadata": {},
   "outputs": [],
   "source": [
    "pat=r'(?<=\\w)[^\\w\\s]+((?=\\w)|(?=\\s))(?=\\w)'"
   ]
  },
  {
   "cell_type": "code",
   "execution_count": 43,
   "metadata": {},
   "outputs": [],
   "source": [
    "com=re.sub(pat,' ',String)"
   ]
  },
  {
   "cell_type": "code",
   "execution_count": 44,
   "metadata": {},
   "outputs": [
    {
     "name": "stdout",
     "output_type": "stream",
     "text": [
      "This is% Matrix#  %!\n"
     ]
    }
   ],
   "source": [
    "print(com)"
   ]
  }
 ],
 "metadata": {
  "kernelspec": {
   "display_name": "Python 3",
   "language": "python",
   "name": "python3"
  },
  "language_info": {
   "codemirror_mode": {
    "name": "ipython",
    "version": 3
   },
   "file_extension": ".py",
   "mimetype": "text/x-python",
   "name": "python",
   "nbconvert_exporter": "python",
   "pygments_lexer": "ipython3",
   "version": "3.10.2"
  }
 },
 "nbformat": 4,
 "nbformat_minor": 2
}
