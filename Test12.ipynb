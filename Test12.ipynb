{
 "cells": [
  {
   "cell_type": "markdown",
   "metadata": {},
   "source": [
    "Your task is to sort a given string. Each word in the string will contain a single number. This number is the position the word should have in the result. Note: Numbers can be from 1 to 9. So 1 will be the first word (not 0). If the input string is empty, return an empty string. The words in the input String will only contain valid consecutive numbers.\n",
    "\n",
    " \n",
    "\n",
    "\"is2 Thi1s T4est 3a\"  -->  \"Thi1s is2 3a T4est\"\n",
    "\n",
    "\"4of Fo1r pe6ople g3ood th5e the2\"  -->  \"Fo1r the2 g3ood 4of th5e pe6ople\"\n",
    "\n",
    "\"\"  -->  \"\""
   ]
  },
  {
   "cell_type": "code",
   "execution_count": 37,
   "metadata": {},
   "outputs": [],
   "source": [
    "strr= \"4of Fo1r pe6ople g3ood th5e the2\""
   ]
  },
  {
   "cell_type": "code",
   "execution_count": 34,
   "metadata": {},
   "outputs": [],
   "source": [
    "def OrderString(strr):\n",
    "    if not strr:\n",
    "        return strr\n",
    "    strr_list=strr.split(' ')\n",
    "    index = [0 for i in strr_list]\n",
    "    for i in strr_list:\n",
    "        temp = list(i)\n",
    "        for x in temp:\n",
    "            if x.isdigit():\n",
    "                index[int(x)-1]=i\n",
    "    result=''\n",
    "    for y in index:\n",
    "        result  += ' '+(y)\n",
    "    return result\n"
   ]
  },
  {
   "cell_type": "code",
   "execution_count": 38,
   "metadata": {},
   "outputs": [
    {
     "data": {
      "text/plain": [
       "' Fo1r the2 g3ood 4of th5e pe6ople'"
      ]
     },
     "execution_count": 38,
     "metadata": {},
     "output_type": "execute_result"
    }
   ],
   "source": [
    "OrderString(strr)"
   ]
  }
 ],
 "metadata": {
  "kernelspec": {
   "display_name": "Python 3",
   "language": "python",
   "name": "python3"
  },
  "language_info": {
   "codemirror_mode": {
    "name": "ipython",
    "version": 3
   },
   "file_extension": ".py",
   "mimetype": "text/x-python",
   "name": "python",
   "nbconvert_exporter": "python",
   "pygments_lexer": "ipython3",
   "version": "3.10.2"
  }
 },
 "nbformat": 4,
 "nbformat_minor": 2
}
