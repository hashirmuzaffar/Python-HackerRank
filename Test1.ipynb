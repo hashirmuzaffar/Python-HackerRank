{
 "cells": [
  {
   "cell_type": "markdown",
   "metadata": {},
   "source": [
    "Write a function which will take an integer as input and print each digit in a separate line. You are not allowed to use str or any other method will convert the integer into string."
   ]
  },
  {
   "cell_type": "code",
   "execution_count": 50,
   "metadata": {},
   "outputs": [],
   "source": [
    "def PrintDigit():\n",
    "    \"\"\"\n",
    "    Inputs an integer of any length and prints each digit on a new line.\n",
    "\n",
    "    \"\"\"\n",
    "    #Takes input\n",
    "    num = int(input(\"Enter Number\"))\n",
    "\n",
    "    #to find length of integer\n",
    "    n = 1\n",
    "    temp = num\n",
    "    while(temp>10):\n",
    "        temp=int(temp/10)\n",
    "        n=n*10\n",
    "    \n",
    "    #to print each digit of integer on a new line\n",
    "    while(n>=1):\n",
    "        print(int((num/n)%10))\n",
    "        n = n/10\n"
   ]
  },
  {
   "cell_type": "code",
   "execution_count": 52,
   "metadata": {},
   "outputs": [
    {
     "name": "stdout",
     "output_type": "stream",
     "text": [
      "2\n",
      "3\n",
      "0\n",
      "0\n"
     ]
    }
   ],
   "source": [
    "PrintDigit()"
   ]
  },
  {
   "cell_type": "code",
   "execution_count": 49,
   "metadata": {},
   "outputs": [
    {
     "name": "stdout",
     "output_type": "stream",
     "text": [
      "2\n",
      "3\n",
      "4\n",
      "9\n",
      "0\n",
      "5\n",
      "4\n"
     ]
    }
   ],
   "source": []
  },
  {
   "cell_type": "code",
   "execution_count": null,
   "metadata": {},
   "outputs": [],
   "source": []
  }
 ],
 "metadata": {
  "kernelspec": {
   "display_name": "Python 3",
   "language": "python",
   "name": "python3"
  },
  "language_info": {
   "codemirror_mode": {
    "name": "ipython",
    "version": 3
   },
   "file_extension": ".py",
   "mimetype": "text/x-python",
   "name": "python",
   "nbconvert_exporter": "python",
   "pygments_lexer": "ipython3",
   "version": "3.10.2"
  }
 },
 "nbformat": 4,
 "nbformat_minor": 2
}
