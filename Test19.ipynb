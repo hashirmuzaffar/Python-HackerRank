{
 "cells": [
  {
   "cell_type": "markdown",
   "metadata": {},
   "source": [
    "Write a function that accepts a fight string consisting of only small letters and return who wins the fight. When the left side wins, the Left side wins!, when the right side wins, the Right side wins!, in other cases, Let's fight again!.\n",
    "Left side letters\n",
    "\n",
    " w - 4\n",
    " p - 3 \n",
    " b - 2\n",
    " s - 1\n",
    " t - 0 (pretty word)\n",
    "\n",
    "Right side letters:\n",
    "\n",
    " m - 4\n",
    " q - 3 \n",
    " d - 2\n",
    " z - 1\n",
    " j - 0 (pretty word)\n",
    "\n",
    "The other letters don't have power and are only victims.\n",
    "The priest units t and j change the adjacent letters from hostile letters to friendly letters with the same power.\n",
    "\n",
    "alphabet_war(\"z\") #=>  \"z\"  => \"Right side wins!\"\n",
    "\n",
    "Explanation:\n",
    "Letter z belongs to the right side letters and the left side has no letter so the right side wins.\n",
    "\n",
    "\n",
    "alphabet_war(\"tz\")        #=>  \"ts\" => \"Left side wins!\"\n",
    "\n",
    "Explanation:\n",
    "Letter t is a pretty letter belonging to the left side. Pretty letters convert hostile letters to friendly letters with the same power. Z is a hostile letter with power 1. T will convert it to s a friendly letter with the same power."
   ]
  },
  {
   "cell_type": "code",
   "execution_count": 24,
   "metadata": {},
   "outputs": [],
   "source": [
    "inputstring = input(\"Enter letters\")"
   ]
  },
  {
   "cell_type": "code",
   "execution_count": 9,
   "metadata": {},
   "outputs": [],
   "source": [
    "left_scores = { \n",
    " 'w' : 4,\n",
    " 'p' : 3, \n",
    " 'b' : 2,\n",
    " 's' : 1,\n",
    " 't' : 0 \n",
    " }\n",
    "\n",
    "right_scores ={\n",
    "'m' : 4,\n",
    "'q' : 3,\n",
    "'d' : 2,\n",
    "'z' : 1,\n",
    "'j' : 0 \n",
    "}"
   ]
  },
  {
   "cell_type": "code",
   "execution_count": 12,
   "metadata": {},
   "outputs": [],
   "source": [
    "def get_key_by_value(d, value):\n",
    "    for k, v in d.items():\n",
    "        if v == value:\n",
    "            return k\n",
    "    return None"
   ]
  },
  {
   "cell_type": "code",
   "execution_count": 45,
   "metadata": {},
   "outputs": [],
   "source": [
    "inputstring='sj'"
   ]
  },
  {
   "cell_type": "code",
   "execution_count": 50,
   "metadata": {},
   "outputs": [
    {
     "name": "stdout",
     "output_type": "stream",
     "text": [
      "sj Right wins\n"
     ]
    }
   ],
   "source": [
    "if len(inputstring)==1:\n",
    "    right=right_scores.get(inputstring,'Not Found')\n",
    "    left=left_scores.get(inputstring, 'Not Found')\n",
    "    if right=='Not Found' and left=='Not Found':\n",
    "        print(\"Play Again\")\n",
    "    elif right=='Not Found':\n",
    "        print(inputstring,\" Left win\")\n",
    "    else:\n",
    "        print(inputstring,\" Right wins\")\n",
    "else:\n",
    "    change=False\n",
    "    change1=False\n",
    "    string=list(inputstring)\n",
    "    right=right_scores.get(string[1],'Not Found')\n",
    "    left =left_scores.get(string[0], 'Not Found')\n",
    "    if string[0]=='t':\n",
    "        string[1]=get_key_by_value(right_scores, right_scores.get(string[1],'Not Found'))\n",
    "        change=True\n",
    "        right=-1\n",
    "    elif string[1]=='j':\n",
    "        string[0]=get_key_by_value(left_scores, left_scores.get(string[0],'Not Found'))\n",
    "        change1=True\n",
    "        left=-1\n",
    "    if right=='Not Found' and left=='Not Found':\n",
    "        print(\"Play Again\")\n",
    "    elif right=='Not Found':\n",
    "        print(string[0]+string[1],\" Left wins\")\n",
    "    elif left==\"Not Found\":\n",
    "        print(string[0]+string[1],\"Right wins\")\n",
    "    if right!='Not Found' and left!='Not Found':    \n",
    "        if right>left or change1==True:\n",
    "            print(string[0]+string[1],\"Right wins\")\n",
    "        elif left>right or change==True:\n",
    "            print(string[0]+string[1],\"Left wins\")\n",
    "        elif left==right:\n",
    "            print(\"Play again\")"
   ]
  }
 ],
 "metadata": {
  "kernelspec": {
   "display_name": "Python 3",
   "language": "python",
   "name": "python3"
  },
  "language_info": {
   "codemirror_mode": {
    "name": "ipython",
    "version": 3
   },
   "file_extension": ".py",
   "mimetype": "text/x-python",
   "name": "python",
   "nbconvert_exporter": "python",
   "pygments_lexer": "ipython3",
   "version": "3.10.2"
  }
 },
 "nbformat": 4,
 "nbformat_minor": 2
}
