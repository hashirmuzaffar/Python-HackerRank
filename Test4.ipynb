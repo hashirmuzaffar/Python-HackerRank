{
 "cells": [
  {
   "cell_type": "markdown",
   "metadata": {},
   "source": [
    "You are given a string. Suppose a character ‘c’ occurs 4 times in the string. Replace these consecutive occurrences of the character 'c' with (4, c) in the string.\n",
    "\n",
    "Input format: A single line of input consisting of string s\n",
    "Output format: A single line of output consisting of the modified string.\n",
    "\n",
    "Input:\n",
    "1222311\n",
    "\n",
    "Output:\n",
    "(1, 1) (3, 2) (1, 3) (2, 1)"
   ]
  },
  {
   "cell_type": "code",
   "execution_count": 14,
   "metadata": {},
   "outputs": [
    {
     "data": {
      "text/plain": [
       "'(1, 1) (3, 2) (1, 3) (2, 1)'"
      ]
     },
     "execution_count": 14,
     "metadata": {},
     "output_type": "execute_result"
    }
   ],
   "source": [
    "Word = '1222311'\n",
    "ConsectiveWord(Word)"
   ]
  },
  {
   "cell_type": "code",
   "execution_count": 13,
   "metadata": {},
   "outputs": [],
   "source": [
    "\n",
    "\n",
    "def ConsectiveWord(s):\n",
    "    result = []\n",
    "    i = 0\n",
    "    n = len(s)\n",
    "    while i < n:\n",
    "        char = s[i]\n",
    "        count = 0\n",
    "        while i < n and s[i] == char:\n",
    "            count += 1\n",
    "            i += 1\n",
    "        result.append(f\"({count}, {char})\")\n",
    "    return ' '.join(result)\n",
    "         "
   ]
  },
  {
   "cell_type": "markdown",
   "metadata": {},
   "source": []
  },
  {
   "cell_type": "code",
   "execution_count": null,
   "metadata": {},
   "outputs": [],
   "source": []
  }
 ],
 "metadata": {
  "kernelspec": {
   "display_name": "Python 3",
   "language": "python",
   "name": "python3"
  },
  "language_info": {
   "codemirror_mode": {
    "name": "ipython",
    "version": 3
   },
   "file_extension": ".py",
   "mimetype": "text/x-python",
   "name": "python",
   "nbconvert_exporter": "python",
   "pygments_lexer": "ipython3",
   "version": "3.10.2"
  }
 },
 "nbformat": 4,
 "nbformat_minor": 2
}
