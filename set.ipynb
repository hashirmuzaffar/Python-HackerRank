{
 "cells": [
  {
   "cell_type": "code",
   "execution_count": 1,
   "metadata": {},
   "outputs": [],
   "source": [
    "set1 = {1,2,3,4}\n",
    "set2 = {3,4,5,6}\n",
    "def identical_items(set1, set2):\n",
    "    return set1 & set2"
   ]
  },
  {
   "cell_type": "code",
   "execution_count": 2,
   "metadata": {},
   "outputs": [
    {
     "data": {
      "text/plain": [
       "{3, 4}"
      ]
     },
     "execution_count": 2,
     "metadata": {},
     "output_type": "execute_result"
    }
   ],
   "source": [
    "identical_items(set1,set2)"
   ]
  },
  {
   "cell_type": "code",
   "execution_count": 3,
   "metadata": {},
   "outputs": [
    {
     "name": "stdout",
     "output_type": "stream",
     "text": [
      "United States\n",
      "Italy\n",
      "\n",
      "United States\n",
      "Washington D.C.\n",
      "Italy\n",
      "Rome\n"
     ]
    }
   ],
   "source": [
    "country_capitals = {\n",
    "  \"United States\": \"Washington D.C.\", \n",
    "  \"Italy\": \"Rome\" \n",
    "}\n",
    "\n",
    "# print dictionary keys one by one\n",
    "for country in country_capitals:\n",
    "    print(country)\n",
    "\n",
    "print()\n",
    "\n",
    "# print dictionary values one by one\n",
    "for country in country_capitals:\n",
    "    print(country)\n",
    "    capital = country_capitals[country]\n",
    "    print(capital)"
   ]
  },
  {
   "cell_type": "code",
   "execution_count": 13,
   "metadata": {},
   "outputs": [],
   "source": [
    "def merge_dictionaries(dict1, dict2):\n",
    "    result = {}\n",
    "    result = dict1\n",
    "    print(result)\n",
    "    for i in dict2:\n",
    "        if i not in dict1:\n",
    "            result[i]=dict2[i]\n",
    "    return result"
   ]
  },
  {
   "cell_type": "code",
   "execution_count": 15,
   "metadata": {},
   "outputs": [
    {
     "name": "stdout",
     "output_type": "stream",
     "text": [
      "{1: 'Hashir', 2: 'Ramesshah', 3: 'warda'}\n"
     ]
    },
    {
     "data": {
      "text/plain": [
       "{1: 'Hashir', 2: 'Ramesshah', 3: 'warda', 4: 'Hashir', 5: 'Ramesshah'}"
      ]
     },
     "execution_count": 15,
     "metadata": {},
     "output_type": "execute_result"
    }
   ],
   "source": [
    "dict1 = {\n",
    "    1:\"Hashir\",\n",
    "    2:\"Ramesshah\",\n",
    "    3:\"warda\"\n",
    "}\n",
    "\n",
    "dict2 = {\n",
    "    4:\"Hashir\",\n",
    "    5:\"Ramesshah\",\n",
    "    3:\"warda\"\n",
    "}\n",
    "\n",
    "merge_dictionaries(dict1,dict2)\n"
   ]
  },
  {
   "cell_type": "code",
   "execution_count": 19,
   "metadata": {},
   "outputs": [
    {
     "name": "stdout",
     "output_type": "stream",
     "text": [
      "You Entered: 5\n",
      "Data type of num: <class 'str'>\n"
     ]
    }
   ],
   "source": [
    "# using input() to take user input\n",
    "num = input('Enter a number: ')\n",
    "\n",
    "print('You Entered:', num)\n",
    "\n",
    "print('Data type of num:', type(num))"
   ]
  }
 ],
 "metadata": {
  "kernelspec": {
   "display_name": "Python 3",
   "language": "python",
   "name": "python3"
  },
  "language_info": {
   "codemirror_mode": {
    "name": "ipython",
    "version": 3
   },
   "file_extension": ".py",
   "mimetype": "text/x-python",
   "name": "python",
   "nbconvert_exporter": "python",
   "pygments_lexer": "ipython3",
   "version": "3.10.2"
  }
 },
 "nbformat": 4,
 "nbformat_minor": 2
}
