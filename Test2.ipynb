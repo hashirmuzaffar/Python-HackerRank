{
 "cells": [
  {
   "cell_type": "markdown",
   "metadata": {},
   "source": [
    "You are given words. Some words may repeat. For each word, output its number of occurrences. The output order should correspond with the input order of appearance of the word."
   ]
  },
  {
   "cell_type": "code",
   "execution_count": 65,
   "metadata": {},
   "outputs": [],
   "source": [
    "def WordOccurrence(n,WordList):\n",
    "    print(\"Distinct words \", len(set(WordList)))\n",
    "    occurrence = [0 for _ in range(n)]\n",
    "    for i in range(n-1):\n",
    "        for j in range(i,n):\n",
    "            if WordList[i]==WordList[j]:\n",
    "                occurrence[i]+=1\n",
    "                occurrence.sort(reverse=True)\n",
    "    print(\"Count for each word \", end = '')\n",
    "    for i in occurrence:\n",
    "        if i != 0:\n",
    "            print(i, end=' ')\n"
   ]
  },
  {
   "cell_type": "code",
   "execution_count": 67,
   "metadata": {},
   "outputs": [
    {
     "name": "stdout",
     "output_type": "stream",
     "text": [
      "Distinct words  3\n",
      "Count for each word 2 1 1 "
     ]
    }
   ],
   "source": [
    "WordOccurrence(4, ['bcdef', 'abcdefg', 'bcde', 'bcdef'])"
   ]
  },
  {
   "cell_type": "code",
   "execution_count": 53,
   "metadata": {},
   "outputs": [
    {
     "name": "stdout",
     "output_type": "stream",
     "text": [
      "0   0   abcdefg   abcdefg   [0, 0, 0, 0]\n",
      "0   1   abcdefg   bcde   [1, 0, 0, 0]\n",
      "0   2   abcdefg   bcdef   [1, 0, 0, 0]\n",
      "0   3   abcdefg   bcdef   [1, 0, 0, 0]\n",
      "1   1   bcde   bcde   [1, 0, 0, 0]\n",
      "1   2   bcde   bcdef   [1, 1, 0, 0]\n",
      "1   3   bcde   bcdef   [1, 1, 0, 0]\n",
      "2   2   bcdef   bcdef   [1, 1, 0, 0]\n",
      "2   3   bcdef   bcdef   [1, 1, 1, 0]\n"
     ]
    }
   ],
   "source": []
  }
 ],
 "metadata": {
  "kernelspec": {
   "display_name": "Python 3",
   "language": "python",
   "name": "python3"
  },
  "language_info": {
   "codemirror_mode": {
    "name": "ipython",
    "version": 3
   },
   "file_extension": ".py",
   "mimetype": "text/x-python",
   "name": "python",
   "nbconvert_exporter": "python",
   "pygments_lexer": "ipython3",
   "version": "3.10.2"
  }
 },
 "nbformat": 4,
 "nbformat_minor": 2
}
