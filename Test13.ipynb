{
 "cells": [
  {
   "cell_type": "markdown",
   "metadata": {},
   "source": [
    "Your task is to create a program which will play Rock Paper Scissors with the user. Take input from the user for his/her selection like scissors/rock/paper. Program should select randomly rock/paper/scissors. Output should be indicating who won the user or computer. \n",
    "\n",
    " \n",
    "\n",
    "Input from user: scissors\n",
    "Random selection from computer: paper\n",
    "Output: User won\n",
    "\n",
    "Input from user: rock\n",
    "Random selection from computer: paper\n",
    "Output: Computer won"
   ]
  },
  {
   "cell_type": "code",
   "execution_count": 1,
   "metadata": {},
   "outputs": [],
   "source": [
    "import random"
   ]
  },
  {
   "cell_type": "code",
   "execution_count": 5,
   "metadata": {},
   "outputs": [
    {
     "name": "stdout",
     "output_type": "stream",
     "text": [
      "Incorrect Input\n"
     ]
    }
   ],
   "source": [
    "options = ['ROCK','PAPER','SCISSORS']\n",
    "user = input(\"Enter ROCK/PAPER/SCISSORS\")\n",
    "computer = random.choice(options)\n",
    "\n",
    "if computer=='ROCK' and user=='ROCK':\n",
    "    print('Match Draw')\n",
    "elif computer=='ROCK' and user=='PAPER':\n",
    "    print('User won')\n",
    "elif computer=='ROCK' and user=='SCISSORS':\n",
    "    print('Computer won')\n",
    "elif computer=='PAPER' and user=='ROCK':\n",
    "    print('Computer won')\n",
    "elif computer=='PAPER' and user=='PAPER':\n",
    "    print('Match draw')\n",
    "elif computer=='PAPER' and user=='SCISSORS':\n",
    "    print('User won')\n",
    "elif computer=='SCISSORS' and user=='ROCK':\n",
    "    print('User won')\n",
    "elif computer=='SCISSORS' and user=='PAPER':\n",
    "    print('Computer won')\n",
    "elif computer=='SCISSORS' and user=='SCISSORS':\n",
    "    print('Match draw')\n",
    "else:\n",
    "    print(\"Incorrect Input\")"
   ]
  },
  {
   "cell_type": "code",
   "execution_count": null,
   "metadata": {},
   "outputs": [],
   "source": []
  }
 ],
 "metadata": {
  "kernelspec": {
   "display_name": "Python 3",
   "language": "python",
   "name": "python3"
  },
  "language_info": {
   "codemirror_mode": {
    "name": "ipython",
    "version": 3
   },
   "file_extension": ".py",
   "mimetype": "text/x-python",
   "name": "python",
   "nbconvert_exporter": "python",
   "pygments_lexer": "ipython3",
   "version": "3.10.2"
  }
 },
 "nbformat": 4,
 "nbformat_minor": 2
}
