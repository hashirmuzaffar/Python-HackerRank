{
 "cells": [
  {
   "cell_type": "code",
   "execution_count": 10,
   "metadata": {},
   "outputs": [],
   "source": [
    "a=\"abc\"\n",
    "b=\"cba\""
   ]
  },
  {
   "cell_type": "code",
   "execution_count": 16,
   "metadata": {},
   "outputs": [
    {
     "name": "stdout",
     "output_type": "stream",
     "text": [
      "['a', 'b', 'c']\n"
     ]
    }
   ],
   "source": [
    "x = list(b)\n",
    "x.sort()\n",
    "print(x)"
   ]
  },
  {
   "cell_type": "code",
   "execution_count": 38,
   "metadata": {},
   "outputs": [],
   "source": [
    "strs = [\"eat\",\"tea\",\"tan\",\"ate\",\"nat\",\"bat\"]"
   ]
  },
  {
   "cell_type": "code",
   "execution_count": 79,
   "metadata": {},
   "outputs": [],
   "source": [
    "strs =[\"\"]"
   ]
  },
  {
   "cell_type": "code",
   "execution_count": 87,
   "metadata": {},
   "outputs": [
    {
     "data": {
      "text/plain": [
       "['eat', 'tea', 'ate', 'tan', 'nat', 'bat']"
      ]
     },
     "execution_count": 87,
     "metadata": {},
     "output_type": "execute_result"
    }
   ],
   "source": [
    "#Check if two arguments are anagram or not\n",
    "def isAnagram(str1, str2):\n",
    "    list1=list(str1)\n",
    "    list2=list(str2)\n",
    "    list1.sort()\n",
    "    list2.sort()\n",
    "    if list1==list2:\n",
    "        return True\n",
    "    return False\n",
    "\n",
    "#Check if an item is an a list of LIST\n",
    "def contains(string, list_):\n",
    "    for x in list_:\n",
    "        if string in x:\n",
    "            return True\n",
    "    return False\n",
    "\n",
    "#formulates the results \n",
    "def ListAnagram(strs):\n",
    "    Results = []\n",
    "    temp = []\n",
    "    for x in strs:\n",
    "        if contains(x,Results):\n",
    "            continue\n",
    "        else:\n",
    "            temp.clear()\n",
    "            temp.append(x)\n",
    "            for y in strs:\n",
    "                if x == y:\n",
    "                    continue\n",
    "                else:\n",
    "                    if isAnagram(x,y):\n",
    "                        temp.append(y)\n",
    "            Results.extend(temp)\n",
    "    return Results\n",
    "\n",
    "\n",
    "list_ = [\"eat\",\"tea\",\"tan\",\"ate\",\"nat\",\"bat\"]\n",
    "#list_ = [\"a\"]\n",
    "#list_ = [\"\"]\n",
    "#ListAnagram(list_1)\n",
    "#ListAnagram(list_2)\n",
    "ListAnagram(list_)\n",
    "\n",
    "\n",
    "\n",
    "\n"
   ]
  },
  {
   "cell_type": "code",
   "execution_count": 77,
   "metadata": {},
   "outputs": [
    {
     "name": "stdout",
     "output_type": "stream",
     "text": [
      "False\n"
     ]
    }
   ],
   "source": [
    "X = [[\"a\",\"b\",\"e\"],[[\"c\"]]]\n",
    "print(contains(\"c\",X))"
   ]
  },
  {
   "cell_type": "code",
   "execution_count": 80,
   "metadata": {},
   "outputs": [
    {
     "name": "stdout",
     "output_type": "stream",
     "text": [
      "['']\n"
     ]
    }
   ],
   "source": [
    "Results = []\n",
    "temp = []\n",
    "for x in strs:\n",
    "    if contains(x,Results):\n",
    "        continue\n",
    "    else:\n",
    "        temp.clear()\n",
    "        temp.append(x)\n",
    "        for y in strs:\n",
    "            if x == y:\n",
    "                continue\n",
    "            else:\n",
    "                if isAnagram(x,y):\n",
    "                    temp.append(y)\n",
    "        Results.extend(temp)\n",
    "print(Results)\n"
   ]
  },
  {
   "cell_type": "code",
   "execution_count": 17,
   "metadata": {},
   "outputs": [],
   "source": [
    "def isAnagram(str1, str2):\n",
    "    list1=list(str1)\n",
    "    list2=list(str2)\n",
    "    list1.sort()\n",
    "    list2.sort()\n",
    "    if list1==list2:\n",
    "        return True\n",
    "    return False"
   ]
  }
 ],
 "metadata": {
  "kernelspec": {
   "display_name": "Python 3",
   "language": "python",
   "name": "python3"
  },
  "language_info": {
   "codemirror_mode": {
    "name": "ipython",
    "version": 3
   },
   "file_extension": ".py",
   "mimetype": "text/x-python",
   "name": "python",
   "nbconvert_exporter": "python",
   "pygments_lexer": "ipython3",
   "version": "3.10.2"
  }
 },
 "nbformat": 4,
 "nbformat_minor": 2
}
