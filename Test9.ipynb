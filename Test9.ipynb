{
 "cells": [
  {
   "cell_type": "markdown",
   "metadata": {},
   "source": [
    "\n",
    "Complete the function that accepts a string parameter, and reverses each word in the string. All spaces in the string should be retained."
   ]
  },
  {
   "cell_type": "code",
   "execution_count": 22,
   "metadata": {},
   "outputs": [],
   "source": [
    "def ReverseString(Array):  \n",
    "    Strings=array.split(' ')   \n",
    "    results = ''\n",
    "    add_spaces = lambda w,e: \" \" if w!=e[-1] else \"\"\n",
    "    for i in Strings:\n",
    "        temp = list(i)\n",
    "        temp.reverse()\n",
    "        for x in temp:\n",
    "            results+= '' + x\n",
    "        results+=add_spaces(i,Strings)\n",
    "    return results    "
   ]
  },
  {
   "cell_type": "code",
   "execution_count": 24,
   "metadata": {},
   "outputs": [
    {
     "data": {
      "text/plain": [
       "'yM  emaN sI  rihsaH'"
      ]
     },
     "execution_count": 24,
     "metadata": {},
     "output_type": "execute_result"
    }
   ],
   "source": [
    "array = \"My  Name Is  Hashir\"\n",
    "ReverseString(array)"
   ]
  }
 ],
 "metadata": {
  "kernelspec": {
   "display_name": "Python 3",
   "language": "python",
   "name": "python3"
  },
  "language_info": {
   "codemirror_mode": {
    "name": "ipython",
    "version": 3
   },
   "file_extension": ".py",
   "mimetype": "text/x-python",
   "name": "python",
   "nbconvert_exporter": "python",
   "pygments_lexer": "ipython3",
   "version": "3.10.2"
  }
 },
 "nbformat": 4,
 "nbformat_minor": 2
}
