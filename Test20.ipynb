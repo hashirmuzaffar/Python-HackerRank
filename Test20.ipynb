{
 "cells": [
  {
   "cell_type": "markdown",
   "metadata": {},
   "source": [
    "Given two positive integers m (width) and n (height), fill a two-dimensional list (or array) of size m-by-n in the following way:\n",
    "All the elements in the first and last row and column are 1.\n",
    "All the elements in the second and second-last row and column are 2, excluding the elements from step 1.\n",
    "All the elements in the third and third-last row and column are 3, excluding the elements from the previous steps.\n",
    "And so on …\n",
    "\n",
    "Example: \n",
    "Given m = 10, n = 9, your function should return\n",
    "[[1, 1, 1, 1, 1, 1, 1, 1, 1, 1],\n",
    " [1, 2, 2, 2, 2, 2, 2, 2, 2, 1],\n",
    " [1, 2, 3, 3, 3, 3, 3, 3, 2, 1], \n",
    " [1, 2, 3, 4, 4, 4, 4, 3, 2, 1], \n",
    " [1, 2, 3, 4, 5, 5, 4, 3, 2, 1], \n",
    " [1, 2, 3, 4, 4, 4, 4, 3, 2, 1], \n",
    " [1, 2, 3, 3, 3, 3, 3, 3, 2, 1], \n",
    " [1, 2, 2, 2, 2, 2, 2, 2, 2, 1], \n",
    " [1, 1, 1, 1, 1, 1, 1, 1, 1, 1]]"
   ]
  },
  {
   "cell_type": "code",
   "execution_count": 2,
   "metadata": {},
   "outputs": [],
   "source": [
    "m = 9\n",
    "n = 9"
   ]
  },
  {
   "cell_type": "code",
   "execution_count": 3,
   "metadata": {},
   "outputs": [],
   "source": [
    "mid = min(m,n)//2"
   ]
  },
  {
   "cell_type": "code",
   "execution_count": 4,
   "metadata": {},
   "outputs": [
    {
     "name": "stdout",
     "output_type": "stream",
     "text": [
      "[[0, 0, 0, 0, 0, 0, 0, 0, 0], [0, 0, 0, 0, 0, 0, 0, 0, 0], [0, 0, 0, 0, 0, 0, 0, 0, 0], [0, 0, 0, 0, 0, 0, 0, 0, 0], [0, 0, 0, 0, 0, 0, 0, 0, 0], [0, 0, 0, 0, 0, 0, 0, 0, 0], [0, 0, 0, 0, 0, 0, 0, 0, 0], [0, 0, 0, 0, 0, 0, 0, 0, 0], [0, 0, 0, 0, 0, 0, 0, 0, 0]]\n"
     ]
    }
   ],
   "source": [
    "mat = [[0 for _ in range(n)] for _ in range(m)]\n",
    "print(mat)"
   ]
  },
  {
   "cell_type": "code",
   "execution_count": 16,
   "metadata": {},
   "outputs": [
    {
     "name": "stdout",
     "output_type": "stream",
     "text": [
      "[1, 1, 1, 1, 1, 1, 1, 1, 1] \n",
      "[1, 2, 2, 2, 2, 2, 2, 2, 2] \n",
      "[1, 2, 3, 3, 3, 3, 3, 3, 3] \n",
      "[1, 2, 3, 4, 4, 4, 4, 4, 4] \n",
      "[1, 2, 3, 4, 5, 4, 3, 2, 1] \n",
      "[1, 2, 3, 4, 4, 4, 4, 4, 4] \n",
      "[1, 2, 3, 4, 3, 3, 3, 3, 3] \n",
      "[1, 2, 3, 4, 2, 2, 2, 2, 2] \n",
      "[1, 1, 1, 1, 1, 1, 1, 1, 1] \n"
     ]
    }
   ],
   "source": [
    "for i in range(mid):\n",
    "\n",
    "    for j in range(i, m):\n",
    "            mat[i][j]=i+1\n",
    "\n",
    "    for j in range(i,m):\n",
    "            mat[n-1-i][j]=i+1\n",
    "\n",
    "    for j in range(i, n-1):\n",
    "            mat[j][i]=i+1\n",
    "\n",
    "    for j in range(n-1,n-i-1):\n",
    "            mat[j][n-1-i]=i+1\n",
    "            \n",
    "\n",
    "for y in mat:\n",
    "    print(str(y) +\" \")\n"
   ]
  },
  {
   "cell_type": "code",
   "execution_count": null,
   "metadata": {},
   "outputs": [],
   "source": []
  }
 ],
 "metadata": {
  "kernelspec": {
   "display_name": "Python 3",
   "language": "python",
   "name": "python3"
  },
  "language_info": {
   "codemirror_mode": {
    "name": "ipython",
    "version": 3
   },
   "file_extension": ".py",
   "mimetype": "text/x-python",
   "name": "python",
   "nbconvert_exporter": "python",
   "pygments_lexer": "ipython3",
   "version": "3.10.2"
  }
 },
 "nbformat": 4,
 "nbformat_minor": 2
}
